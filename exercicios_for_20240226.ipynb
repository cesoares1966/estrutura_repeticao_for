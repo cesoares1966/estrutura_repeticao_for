{
  "nbformat": 4,
  "nbformat_minor": 0,
  "metadata": {
    "colab": {
      "provenance": []
    },
    "kernelspec": {
      "name": "python3",
      "display_name": "Python 3"
    },
    "language_info": {
      "name": "python"
    }
  },
  "cells": [
    {
      "cell_type": "markdown",
      "source": [
        "Solicitar um numero inteiro positivo N ao usuario. imprimir os numeos de N a 1. Realizar o exercicio usando loops for e while"
      ],
      "metadata": {
        "id": "l6OpSjmEAbOw"
      }
    },
    {
      "cell_type": "code",
      "source": [
        "#Entrada de variavel que será utilizada pelos 2 loops\n",
        "T = int(input(\"Entre com número inteiro maior que 1\"))\n",
        "\n",
        "#FOR\n",
        "print(f\"For:\", end=\"\")\n",
        "for t in range(T): #Para o contador t dentro do range do numero apresentado faça\n",
        "  print(f\"{T-t}\", end=\" \") #Mostre o calculo de T-t\n",
        "print(\"\\n\")\n",
        "#WHILE\n",
        "print(f\"While:\", end=\" \")\n",
        "i = 0\n",
        "while i < T: # Enquanto o contador for menor que o numero apresentado faça\n",
        "  print(f\"{T-i}\", end=\" \") #Mostre o calculo de T-t\n",
        "  i += 1"
      ],
      "metadata": {
        "colab": {
          "base_uri": "https://localhost:8080/"
        },
        "id": "lCddeFGkAoxD",
        "outputId": "087aa187-3684-4ff6-fc62-37f7aae89721"
      },
      "execution_count": 16,
      "outputs": [
        {
          "output_type": "stream",
          "name": "stdout",
          "text": [
            "Entre com número inteiro maior que 15\n",
            "For:5 4 3 2 1 \n",
            "\n",
            "While: 5 4 3 2 1 "
          ]
        }
      ]
    },
    {
      "cell_type": "markdown",
      "source": [
        "Solicitar um numero inteiro positivo N ao usuario. imprimir os numeos de N a 1 trocando o sinal dos numeros. Realizar o exercicio usando loops for e while"
      ],
      "metadata": {
        "id": "wS4nFEHHLuaB"
      }
    },
    {
      "cell_type": "code",
      "source": [
        "N = int(input(\"Entre com número inteiro maior que 1\"))\n",
        "#for\n",
        "print(\"For:\")\n",
        "mult = -1\n",
        "fat = 1\n",
        "for n in range(N):\n",
        "  num = fat * (N-n)\n",
        "  fat *= mult\n",
        "  print(f\"{num}\", end=\" \")\n",
        "print(\"\\n\")\n",
        "\n",
        "#While\n",
        "print(\"While:\")\n",
        "mult = -1\n",
        "fat = 1\n",
        "i = 0\n",
        "while i < N:\n",
        "  num = fat * (N-i)\n",
        "  fat *= mult\n",
        "  print(f\"{num}\", end=\" \")\n",
        "  i += 1\n",
        "\n",
        "T = int(input(\"Entre com número inteiro maior que 1 para ver mais uma solução\"))\n",
        "#Outra solução\n",
        "#FOR\n",
        "print(f\"For2:\", end=\"\")\n",
        "for t in range(T): #Para o contador t dentro do range do numero apresentado faça\n",
        "  print(f\"{t-T}\", end=\" \") #Mostre o calculo de T-t\n",
        "print(\"\\n\")\n",
        "#WHILE\n",
        "print(f\"While2:\", end=\" \")\n",
        "i = 0\n",
        "while i < T: # Enquanto o contador for menor que o numero apresentado faça\n",
        "  print(f\"{i-T}\", end=\" \") #Mostre o calculo de T-t\n",
        "  i += 1"
      ],
      "metadata": {
        "colab": {
          "base_uri": "https://localhost:8080/"
        },
        "id": "btvCrWCeL3vJ",
        "outputId": "e2b6437c-4bcd-4bb1-edfd-4e6a16905b85"
      },
      "execution_count": 20,
      "outputs": [
        {
          "output_type": "stream",
          "name": "stdout",
          "text": [
            "Entre com número inteiro maior que 15\n",
            "For:\n",
            "5 -4 3 -2 1 \n",
            "\n",
            "While:\n",
            "5 -4 3 -2 1 Entre com número inteiro maior que 1 para ver mais uma solução5\n",
            "For2:-5 -4 -3 -2 -1 \n",
            "\n",
            "While2: -5 -4 -3 -2 -1 "
          ]
        }
      ]
    },
    {
      "cell_type": "markdown",
      "source": [],
      "metadata": {
        "id": "6_Thv1WmPWO5"
      }
    },
    {
      "cell_type": "markdown",
      "source": [
        "![3.png](data:image/png;base64,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)"
      ],
      "metadata": {
        "id": "hTx1PfuOAYRy"
      }
    },
    {
      "cell_type": "code",
      "source": [
        "N = int(input(\"Entre com número inteiro maior que 1\"))\n",
        "# FOR\n",
        "print(\"For: \")\n",
        "for i in range(1, N):\n",
        "  print(f\"{i*i}\")\n",
        "# While\n",
        "print(\"While: \")\n",
        "i = 1\n",
        "while i < N:\n",
        "  print(f\"{i*i}\")\n",
        "  i += 1"
      ],
      "metadata": {
        "colab": {
          "base_uri": "https://localhost:8080/"
        },
        "id": "BG4iRAtCP466",
        "outputId": "56368339-f6a3-43c9-f200-2f09369c6710"
      },
      "execution_count": 21,
      "outputs": [
        {
          "output_type": "stream",
          "name": "stdout",
          "text": [
            "Entre com número inteiro maior que 15\n",
            "For: \n",
            "1\n",
            "4\n",
            "9\n",
            "16\n"
          ]
        }
      ]
    }
  ]
}