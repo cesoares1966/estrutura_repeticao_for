{
  "nbformat": 4,
  "nbformat_minor": 0,
  "metadata": {
    "colab": {
      "provenance": []
    },
    "kernelspec": {
      "name": "python3",
      "display_name": "Python 3"
    },
    "language_info": {
      "name": "python"
    }
  },
  "cells": [
    {
      "cell_type": "code",
      "source": [
        "for index,numero in enumerate(list(range(0,10,2))):\n",
        "  print(index,numero)"
      ],
      "metadata": {
        "colab": {
          "base_uri": "https://localhost:8080/"
        },
        "id": "9AO5s-UNEOoV",
        "outputId": "19f2fa03-c16d-4e0c-9c4a-79b135be8ecb"
      },
      "execution_count": 17,
      "outputs": [
        {
          "output_type": "stream",
          "name": "stdout",
          "text": [
            "0 0\n",
            "1 2\n",
            "2 4\n",
            "3 6\n",
            "4 8\n"
          ]
        }
      ]
    },
    {
      "cell_type": "code",
      "source": [
        "lista = [10,1,2,23,34,5,46,7,81,19]\n",
        "lista.reverse()\n",
        "print(lista)"
      ],
      "metadata": {
        "colab": {
          "base_uri": "https://localhost:8080/"
        },
        "id": "4qfZa7A3_aSU",
        "outputId": "7705203d-7885-4246-c407-1180fc001ab6"
      },
      "execution_count": 9,
      "outputs": [
        {
          "output_type": "stream",
          "name": "stdout",
          "text": [
            "[19, 81, 7, 46, 5, 34, 23, 2, 1, 10]\n"
          ]
        }
      ]
    },
    {
      "cell_type": "code",
      "source": [
        "idades = [23,34,54,12,11]\n",
        "print('A menor idade é:',min(idades),', a maior idade é:',max(idades))"
      ],
      "metadata": {
        "colab": {
          "base_uri": "https://localhost:8080/"
        },
        "id": "PbKy4JytA2A1",
        "outputId": "153e2d70-2d4d-4c13-ea74-360dec11a8cd"
      },
      "execution_count": 4,
      "outputs": [
        {
          "output_type": "stream",
          "name": "stdout",
          "text": [
            "A menor idade é: 11 , a maior idade é: 54\n"
          ]
        }
      ]
    },
    {
      "cell_type": "code",
      "source": [
        "numeros = [1,2,3,4,5,6,7,8,9,0]\n",
        "pares = [numero for numero in numeros if numero % 2 == 0]\n",
        "impares = [numero for numero in numeros if numero % 2 != 0]\n",
        "print(pares)\n",
        "print(impares)"
      ],
      "metadata": {
        "colab": {
          "base_uri": "https://localhost:8080/"
        },
        "id": "NAsebB3PBf9A",
        "outputId": "5dac8bf7-41fa-4043-f6f9-30074fc283f1"
      },
      "execution_count": 6,
      "outputs": [
        {
          "output_type": "stream",
          "name": "stdout",
          "text": [
            "[2, 4, 6, 8, 0]\n",
            "[1, 3, 5, 7, 9]\n"
          ]
        }
      ]
    }
  ]
}